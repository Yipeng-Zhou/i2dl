{
 "cells": [
  {
   "cell_type": "markdown",
   "metadata": {},
   "source": [
    "# Pytorch Lightning Introduction\n",
    "\n",
    "Welcome to the introduction to [`PyTorchLightning`](https://www.pytorchlightning.ai/). PyTorch Lightning is a wrapper for PyTorch that is focused towards building neural networks model quickly by removing the boilerplate code. It also extends the functionality of PyTorch, for example, with model Callbacks and automatic porting to GPU to accelerate computations.\n",
    "\n",
    "In its essence, pytorch lightning provides a controlled setup where you are forced to in its specific partly automated library setup, but are able to customize/de-automatate each process if you so desire. You can both rely on a variety of already implemented functionalities and the fact that your code is by definition structured clearly, but at the cost of having to delve into their code structure and figuring out which functions to use.\n",
    "\n",
    "Our suggestion is to try it out. If you like it, cool, otherwise you can just stick to pytorch and build up your own library of functions you will use throughout your Deep Learning journey.\n",
    "\n",
    "Let's get started by installing PyTorch Lightning."
   ]
  },
  {
   "cell_type": "markdown",
   "metadata": {},
   "source": [
    "## (Optional) Mount folder in Colab\n",
    "\n",
    "Uncomment thefollowing cell to mount your gdrive if you are using the notebook in google colab:"
   ]
  },
  {
   "cell_type": "code",
   "execution_count": null,
   "metadata": {},
   "outputs": [],
   "source": [
    "\"\"\"\n",
    "from google.colab import drive\n",
    "import os\n",
    "\n",
    "gdrive_path='/content/gdrive/MyDrive/i2dl/exercise_07'\n",
    "\n",
    "# This will mount your google drive under 'MyDrive'\n",
    "drive.mount('/content/gdrive', force_remount=True)\n",
    "# In order to access the files in this notebook we have to navigate to the correct folder\n",
    "os.chdir(gdrive_path)\n",
    "# Check manually if all files are present\n",
    "print(sorted(os.listdir()))\n",
    "\"\"\""
   ]
  },
  {
   "cell_type": "code",
   "execution_count": null,
   "metadata": {},
   "outputs": [],
   "source": [
    "# Optional: install correct libraries in google colab\n",
    "# !python -m pip install torch==1.11.0+cu113 torchvision==0.12.0+cu113 -f https://download.pytorch.org/whl/torch_stable.html\n",
    "# !python -m pip install tensorboard==2.9.1"
   ]
  },
  {
   "cell_type": "markdown",
   "metadata": {},
   "source": [
    "### Installing Pytorch Lightning"
   ]
  },
  {
   "cell_type": "code",
   "execution_count": 1,
   "metadata": {},
   "outputs": [],
   "source": [
    "# For automatic file reloading as usual\n",
    "%load_ext autoreload\n",
    "%autoreload 2\n",
    "%matplotlib inline"
   ]
  },
  {
   "cell_type": "code",
   "execution_count": 2,
   "metadata": {},
   "outputs": [
    {
     "name": "stdout",
     "output_type": "stream",
     "text": [
      "Requirement already satisfied: pytorch-lightning==1.6.0 in /home/yipeng/anaconda3/envs/i2dl/lib/python3.10/site-packages (1.6.0)\n",
      "Requirement already satisfied: pyDeprecate<0.4.0,>=0.3.1 in /home/yipeng/anaconda3/envs/i2dl/lib/python3.10/site-packages (from pytorch-lightning==1.6.0) (0.3.2)\n",
      "Requirement already satisfied: packaging>=17.0 in /home/yipeng/anaconda3/envs/i2dl/lib/python3.10/site-packages (from pytorch-lightning==1.6.0) (21.3)\n",
      "Requirement already satisfied: typing-extensions>=4.0.0 in /home/yipeng/anaconda3/envs/i2dl/lib/python3.10/site-packages (from pytorch-lightning==1.6.0) (4.2.0)\n",
      "Requirement already satisfied: torch>=1.8.* in /home/yipeng/anaconda3/envs/i2dl/lib/python3.10/site-packages (from pytorch-lightning==1.6.0) (1.11.0+cu113)\n",
      "Requirement already satisfied: tqdm>=4.41.0 in /home/yipeng/anaconda3/envs/i2dl/lib/python3.10/site-packages (from pytorch-lightning==1.6.0) (4.64.0)\n",
      "Requirement already satisfied: torchmetrics>=0.4.1 in /home/yipeng/anaconda3/envs/i2dl/lib/python3.10/site-packages (from pytorch-lightning==1.6.0) (0.9.1)\n",
      "Requirement already satisfied: PyYAML>=5.4 in /home/yipeng/anaconda3/envs/i2dl/lib/python3.10/site-packages (from pytorch-lightning==1.6.0) (6.0)\n",
      "Requirement already satisfied: numpy>=1.17.2 in /home/yipeng/anaconda3/envs/i2dl/lib/python3.10/site-packages (from pytorch-lightning==1.6.0) (1.23.0)\n",
      "Requirement already satisfied: fsspec[http]!=2021.06.0,>=2021.05.0 in /home/yipeng/anaconda3/envs/i2dl/lib/python3.10/site-packages (from pytorch-lightning==1.6.0) (2022.5.0)\n",
      "Requirement already satisfied: tensorboard>=2.2.0 in /home/yipeng/anaconda3/envs/i2dl/lib/python3.10/site-packages (from pytorch-lightning==1.6.0) (2.9.1)\n",
      "Requirement already satisfied: requests in /home/yipeng/anaconda3/envs/i2dl/lib/python3.10/site-packages (from fsspec[http]!=2021.06.0,>=2021.05.0->pytorch-lightning==1.6.0) (2.28.0)\n",
      "Requirement already satisfied: aiohttp in /home/yipeng/anaconda3/envs/i2dl/lib/python3.10/site-packages (from fsspec[http]!=2021.06.0,>=2021.05.0->pytorch-lightning==1.6.0) (3.8.1)\n",
      "Requirement already satisfied: pyparsing!=3.0.5,>=2.0.2 in /home/yipeng/anaconda3/envs/i2dl/lib/python3.10/site-packages (from packaging>=17.0->pytorch-lightning==1.6.0) (3.0.9)\n",
      "Requirement already satisfied: protobuf<3.20,>=3.9.2 in /home/yipeng/anaconda3/envs/i2dl/lib/python3.10/site-packages (from tensorboard>=2.2.0->pytorch-lightning==1.6.0) (3.19.4)\n",
      "Requirement already satisfied: google-auth-oauthlib<0.5,>=0.4.1 in /home/yipeng/anaconda3/envs/i2dl/lib/python3.10/site-packages (from tensorboard>=2.2.0->pytorch-lightning==1.6.0) (0.4.6)\n",
      "Requirement already satisfied: tensorboard-data-server<0.7.0,>=0.6.0 in /home/yipeng/anaconda3/envs/i2dl/lib/python3.10/site-packages (from tensorboard>=2.2.0->pytorch-lightning==1.6.0) (0.6.1)\n",
      "Requirement already satisfied: grpcio>=1.24.3 in /home/yipeng/anaconda3/envs/i2dl/lib/python3.10/site-packages (from tensorboard>=2.2.0->pytorch-lightning==1.6.0) (1.47.0)\n",
      "Requirement already satisfied: tensorboard-plugin-wit>=1.6.0 in /home/yipeng/anaconda3/envs/i2dl/lib/python3.10/site-packages (from tensorboard>=2.2.0->pytorch-lightning==1.6.0) (1.8.1)\n",
      "Requirement already satisfied: setuptools>=41.0.0 in /home/yipeng/anaconda3/envs/i2dl/lib/python3.10/site-packages (from tensorboard>=2.2.0->pytorch-lightning==1.6.0) (62.6.0)\n",
      "Requirement already satisfied: absl-py>=0.4 in /home/yipeng/anaconda3/envs/i2dl/lib/python3.10/site-packages (from tensorboard>=2.2.0->pytorch-lightning==1.6.0) (1.1.0)\n",
      "Requirement already satisfied: markdown>=2.6.8 in /home/yipeng/anaconda3/envs/i2dl/lib/python3.10/site-packages (from tensorboard>=2.2.0->pytorch-lightning==1.6.0) (3.3.7)\n",
      "Requirement already satisfied: google-auth<3,>=1.6.3 in /home/yipeng/anaconda3/envs/i2dl/lib/python3.10/site-packages (from tensorboard>=2.2.0->pytorch-lightning==1.6.0) (2.8.0)\n",
      "Requirement already satisfied: wheel>=0.26 in /home/yipeng/anaconda3/envs/i2dl/lib/python3.10/site-packages (from tensorboard>=2.2.0->pytorch-lightning==1.6.0) (0.37.1)\n",
      "Requirement already satisfied: werkzeug>=1.0.1 in /home/yipeng/anaconda3/envs/i2dl/lib/python3.10/site-packages (from tensorboard>=2.2.0->pytorch-lightning==1.6.0) (2.1.2)\n",
      "Requirement already satisfied: pyasn1-modules>=0.2.1 in /home/yipeng/anaconda3/envs/i2dl/lib/python3.10/site-packages (from google-auth<3,>=1.6.3->tensorboard>=2.2.0->pytorch-lightning==1.6.0) (0.2.8)\n",
      "Requirement already satisfied: six>=1.9.0 in /home/yipeng/anaconda3/envs/i2dl/lib/python3.10/site-packages (from google-auth<3,>=1.6.3->tensorboard>=2.2.0->pytorch-lightning==1.6.0) (1.16.0)\n",
      "Requirement already satisfied: rsa<5,>=3.1.4 in /home/yipeng/anaconda3/envs/i2dl/lib/python3.10/site-packages (from google-auth<3,>=1.6.3->tensorboard>=2.2.0->pytorch-lightning==1.6.0) (4.8)\n",
      "Requirement already satisfied: cachetools<6.0,>=2.0.0 in /home/yipeng/anaconda3/envs/i2dl/lib/python3.10/site-packages (from google-auth<3,>=1.6.3->tensorboard>=2.2.0->pytorch-lightning==1.6.0) (5.2.0)\n",
      "Requirement already satisfied: requests-oauthlib>=0.7.0 in /home/yipeng/anaconda3/envs/i2dl/lib/python3.10/site-packages (from google-auth-oauthlib<0.5,>=0.4.1->tensorboard>=2.2.0->pytorch-lightning==1.6.0) (1.3.1)\n",
      "Requirement already satisfied: certifi>=2017.4.17 in /home/yipeng/anaconda3/envs/i2dl/lib/python3.10/site-packages (from requests->fsspec[http]!=2021.06.0,>=2021.05.0->pytorch-lightning==1.6.0) (2022.6.15)\n",
      "Requirement already satisfied: idna<4,>=2.5 in /home/yipeng/anaconda3/envs/i2dl/lib/python3.10/site-packages (from requests->fsspec[http]!=2021.06.0,>=2021.05.0->pytorch-lightning==1.6.0) (3.3)\n",
      "Requirement already satisfied: urllib3<1.27,>=1.21.1 in /home/yipeng/anaconda3/envs/i2dl/lib/python3.10/site-packages (from requests->fsspec[http]!=2021.06.0,>=2021.05.0->pytorch-lightning==1.6.0) (1.26.9)\n",
      "Requirement already satisfied: charset-normalizer~=2.0.0 in /home/yipeng/anaconda3/envs/i2dl/lib/python3.10/site-packages (from requests->fsspec[http]!=2021.06.0,>=2021.05.0->pytorch-lightning==1.6.0) (2.0.12)\n",
      "Requirement already satisfied: aiosignal>=1.1.2 in /home/yipeng/anaconda3/envs/i2dl/lib/python3.10/site-packages (from aiohttp->fsspec[http]!=2021.06.0,>=2021.05.0->pytorch-lightning==1.6.0) (1.2.0)\n",
      "Requirement already satisfied: attrs>=17.3.0 in /home/yipeng/anaconda3/envs/i2dl/lib/python3.10/site-packages (from aiohttp->fsspec[http]!=2021.06.0,>=2021.05.0->pytorch-lightning==1.6.0) (21.4.0)\n",
      "Requirement already satisfied: async-timeout<5.0,>=4.0.0a3 in /home/yipeng/anaconda3/envs/i2dl/lib/python3.10/site-packages (from aiohttp->fsspec[http]!=2021.06.0,>=2021.05.0->pytorch-lightning==1.6.0) (4.0.2)\n",
      "Requirement already satisfied: frozenlist>=1.1.1 in /home/yipeng/anaconda3/envs/i2dl/lib/python3.10/site-packages (from aiohttp->fsspec[http]!=2021.06.0,>=2021.05.0->pytorch-lightning==1.6.0) (1.3.0)\n",
      "Requirement already satisfied: multidict<7.0,>=4.5 in /home/yipeng/anaconda3/envs/i2dl/lib/python3.10/site-packages (from aiohttp->fsspec[http]!=2021.06.0,>=2021.05.0->pytorch-lightning==1.6.0) (6.0.2)\n",
      "Requirement already satisfied: yarl<2.0,>=1.0 in /home/yipeng/anaconda3/envs/i2dl/lib/python3.10/site-packages (from aiohttp->fsspec[http]!=2021.06.0,>=2021.05.0->pytorch-lightning==1.6.0) (1.7.2)\n",
      "Requirement already satisfied: pyasn1<0.5.0,>=0.4.6 in /home/yipeng/anaconda3/envs/i2dl/lib/python3.10/site-packages (from pyasn1-modules>=0.2.1->google-auth<3,>=1.6.3->tensorboard>=2.2.0->pytorch-lightning==1.6.0) (0.4.8)\n",
      "Requirement already satisfied: oauthlib>=3.0.0 in /home/yipeng/anaconda3/envs/i2dl/lib/python3.10/site-packages (from requests-oauthlib>=0.7.0->google-auth-oauthlib<0.5,>=0.4.1->tensorboard>=2.2.0->pytorch-lightning==1.6.0) (3.2.0)\n",
      "\u001b[33mWARNING: You are using pip version 22.0.4; however, version 22.1.2 is available.\n",
      "You should consider upgrading via the '/home/yipeng/anaconda3/envs/i2dl/bin/python -m pip install --upgrade pip' command.\u001b[0m\u001b[33m\n",
      "\u001b[0m"
     ]
    }
   ],
   "source": [
    "import sys\n",
    "\n",
    "# For google colab\n",
    "# !python -m pip install pytorch-lightning==1.6.0 > /dev/null\n",
    "\n",
    "# For anaconda/regular python\n",
    "!{sys.executable} -m pip install pytorch-lightning==1.6.0"
   ]
  },
  {
   "cell_type": "code",
   "execution_count": 3,
   "metadata": {},
   "outputs": [
    {
     "name": "stderr",
     "output_type": "stream",
     "text": [
      "/home/yipeng/anaconda3/envs/i2dl/lib/python3.10/site-packages/torchvision/io/image.py:13: UserWarning: Failed to load image Python extension: libtorch_cuda_cu.so: cannot open shared object file: No such file or directory\n",
      "  warn(f\"Failed to load image Python extension: {e}\")\n"
     ]
    },
    {
     "name": "stdout",
     "output_type": "stream",
     "text": [
      "Lightning version: 1.6.0\n",
      "Tensorboard version: 2.9.1\n",
      "PyTorch version Installed: 1.11.0+cu102\n",
      "Torchvision version Installed: 0.12.0+cu113\n",
      "\n"
     ]
    }
   ],
   "source": [
    "import pytorch_lightning as pl\n",
    "print(f\"Lightning version: {pl.__version__}\")\n",
    "if not pl.__version__.startswith(\"1.6\"):\n",
    "    print(\"You are using another version of pytorch lightning. We expect pytorch lightning 1.6.0. You can continue with your version but it\"\n",
    "          \" might cause dependency and compatibility issues.\")\n",
    "\n",
    "import tensorboard\n",
    "import torch\n",
    "import torchvision\n",
    "print(f\"Tensorboard version: {tensorboard.__version__}\")\n",
    "if not tensorboard.__version__.startswith(\"2.9.1\"):\n",
    "    print(\"You are using an another version of Tensorboard. We expect Tensorboard 2.9.1 You may continue using your version but it\"\n",
    "          \" might cause dependency and compatibility issues.\")\n",
    "print(f\"PyTorch version Installed: {torch.__version__}\\nTorchvision version Installed: {torchvision.__version__}\\n\")\n",
    "if not torch.__version__.startswith(\"1.11\"):\n",
    "    print(\"you are using an another version of PyTorch. We expect PyTorch 1.11.0. You may continue using your version but it\"\n",
    "          \" might cause dependency and compatibility issues.\")\n",
    "if not torchvision.__version__.startswith(\"0.12\"):\n",
    "    print(\"you are using an another version of torchvision. We expect torchvision 0.12. You can continue with your version but it\"\n",
    "          \" might cause dependency and compatibility issues.\")"
   ]
  },
  {
   "cell_type": "markdown",
   "metadata": {},
   "source": [
    "# 1. Idea behind PyTorch Lightning\n",
    "\n",
    "Codes in a Deep learning project consists of three main categories:\n",
    "\n",
    "1. **Research code**   \n",
    "    This is the exciting part of the experiment where you configure the model architecture and try out different optimizers and target task. This is managed by the `LightningModule` of PyTorch Lightning.\n",
    "    \n",
    "2. **Engineering code**  \n",
    "    This is the same set of code that remain the same for all deep learning projects.Recall the training block of previous notebooks where we loop through the epochs and mini-batches. The `Trainer` class of PyTorch Lightning takes care of this part of code.\n",
    "    \n",
    "3. **Non-essential code**\n",
    "    It is very important that we log our training metrics and organize different training runs to have purposeful experimentation of models. The `Callbacks` class PyTorch Lightning helps us with this section. \n",
    "\n",
    "Let's look at each of these modules in detail.\n",
    "\n",
    "1. **LightningModules** contain all model related code. This is the part where we are working on when creating a new project. The idea is to have all important code in one module, e.g., the model's architecture and the evaluation of training and validation metrics. This provides a better overview as repeated elements, such as the training procedure, are not stored in the code that we work on. The lightning module also handles the calls `.to(device)` or `.train()` and `.eval()`. Hence, there is no need anymore to switch between the cpu and gpu and to take care of the model's mode as this is automated by the LightningModule. The framework also enables easy parallel computation on multiple gpus. \n",
    "\n",
    "2. **Trainer** contains all code needed for training our neural networks that doesn't change for each project (\"one size fits all\"). Usually, we don't touch the code automated by this class. The arguments that are specific for one training such as learning rate and batch size are provided as initialization arguments for the LightningModule.\n",
    "\n",
    "3. **Callbacks** automate all parts needed for logging hyperparameters or training results such as the tensorboard logger. Logging becomes very important for research later since the results of experiments need to be reproducible.\n",
    "\n",
    "All in all, PyTorch is a framework that handles all (annoying) \"engineering\" stuff for you such that you have more time for exciting research and scientific coding. This also results in the advantage that automated parts are guaranteed to be bug-free. Hence, you can't include a bug in a part of your code that is often used but not often checked. "
   ]
  },
  {
   "cell_type": "markdown",
   "metadata": {},
   "source": [
    "# 2. Overview of the PyTorch Lightning code"
   ]
  },
  {
   "cell_type": "markdown",
   "metadata": {},
   "source": [
    "Research relevant code goes into the `LightningModule`. The advantage is that we have all the model building, training & validation steps within a single class. These are the components that usually change based on the projects and tasks."
   ]
  },
  {
   "cell_type": "markdown",
   "metadata": {},
   "source": [
    "![tensorBoard Interface](./images/pl_quick_start_full_compressed.gif)"
   ]
  },
  {
   "cell_type": "markdown",
   "metadata": {},
   "source": [
    "The remaining code is automated by the `Trainer` class which takes care of the tasks of our mechanical training loops components such as iterating through the minibatches and gradient updating steps."
   ]
  },
  {
   "cell_type": "markdown",
   "metadata": {},
   "source": [
    "![alt text](https://miro.medium.com/max/700/1*b81_j__xv8M0Bb6nFTXbAA.png)"
   ]
  },
  {
   "cell_type": "markdown",
   "metadata": {},
   "source": [
    "We could already see how much more readable and concise our code is, after being transformed by PyTorch Lightning.\n",
    "\n",
    "Let us now train a neural network model with PyTorch Lightning."
   ]
  },
  {
   "cell_type": "markdown",
   "metadata": {},
   "source": [
    "# 4. Training with PyTorch Lightning\n",
    "\n",
    "We will build a two-layer neural network to train on the the [`Fashion-MNIST`](https://research.zalando.com/welcome/mission/research-projects/fashion-mnist/) dataset for this notebook. \n",
    "\n",
    "## 4.1 Define A LightningModule\n",
    "\n",
    "We define our network as an instance of `pl.LightningModule` which replaces our `PyTorch` network based on the class `nn.Module`. Additionally, it contains all the relevant parts that are used for training and evaluating different models on various tasks.  \n",
    "\n",
    "Let's have a look at the implementation of `TwoLayerNet` in `exercise_code.lightning_models`."
   ]
  },
  {
   "cell_type": "markdown",
   "metadata": {},
   "source": [
    "The `__init__()` and `forward()` function defining the forward  pass remain the same. Hence, we can just copy the code from the `nn.Module`."
   ]
  },
  {
   "cell_type": "markdown",
   "metadata": {},
   "source": [
    "```python\n",
    "class TwoLayerNet(pl.LightningModule):\n",
    "    def __init__(self, hparams, input_size=1 * 28 * 28, hidden_size=512, num_classes=10):\n",
    "        super().__init__()\n",
    "        self.save_hyperparameters(hparams)\n",
    "\n",
    "        self.model = nn.Sequential(\n",
    "            nn.Linear(input_size, hidden_size),\n",
    "            nn.Sigmoid(),\n",
    "            nn.Linear(hidden_size, num_classes),\n",
    "        )\n",
    "\n",
    "    def forward(self, x):\n",
    "        # flatten the image before sending as input to the model\n",
    "        N, _, _, _ = x.shape\n",
    "        x = x.view(N, -1)\n",
    "\n",
    "        x = self.model(x)\n",
    "\n",
    "        return x\n",
    "```"
   ]
  },
  {
   "cell_type": "markdown",
   "metadata": {},
   "source": [
    "We will now define the training  and validation steps since they also vary with different tasks and projects. Consequently, it is useful to integrate these parts into our instance of `LightningModule`. Validation loss is returned for each validation mini-batch and averaged at the end of the epoch."
   ]
  },
  {
   "cell_type": "markdown",
   "metadata": {},
   "source": [
    "```python\n",
    "    def training_step(self, batch, batch_idx):\n",
    "        images, targets = batch\n",
    "\n",
    "        # Perform a forward pass on the network with inputs\n",
    "        out = self.forward(images)\n",
    "\n",
    "        # calculate the loss with the network predictions and ground truth targets\n",
    "        loss = F.cross_entropy(out, targets)\n",
    "\n",
    "        # Find the predicted class from probabilities of the image belonging to each of the classes\n",
    "        # from the network output\n",
    "        _, preds = torch.max(out, 1)\n",
    "\n",
    "        # Calculate the accuracy of predictions\n",
    "        acc = preds.eq(targets).sum().float() / targets.size(0)\n",
    "\n",
    "        # Log the accuracy and loss values to the tensorboard\n",
    "        self.log('loss', loss)\n",
    "        self.log('acc', acc)\n",
    "\n",
    "        return {'loss': loss}\n",
    "\n",
    "    def validation_step(self, batch, batch_idx):\n",
    "        images, targets = batch\n",
    "\n",
    "        # Perform a forward pass on the network with inputs\n",
    "        out = self.forward(images)\n",
    "\n",
    "        # calculate the loss with the network predictions and ground truth targets\n",
    "        loss = F.cross_entropy(out, targets)\n",
    "\n",
    "        # Find the predicted class from probabilities of the image belonging to each of the classes\n",
    "        # from the network output\n",
    "        _, preds = torch.max(out, 1)\n",
    "\n",
    "        # Calculate the accuracy of predictions\n",
    "        acc = preds.eq(targets).sum().float() / targets.size(0)\n",
    "\n",
    "        # Visualise the predictions  of the model\n",
    "        if batch_idx == 0:\n",
    "            self.visualize_predictions(images, out.detach(), targets)\n",
    "\n",
    "        return {'val_loss': loss, 'val_acc': acc}\n",
    "\n",
    "    def validation_epoch_end(self, outputs):\n",
    "\n",
    "        # Average the loss over the entire validation data from it's mini-batches\n",
    "        avg_loss = torch.stack([x['val_loss'] for x in outputs]).mean()\n",
    "        avg_acc = torch.stack([x['val_acc'] for x in outputs]).mean()\n",
    "\n",
    "        # Log the validation accuracy and loss values to the tensorboard\n",
    "        self.log('val_loss', avg_loss)\n",
    "        self.log('val_acc', avg_acc)\n",
    "```"
   ]
  },
  {
   "cell_type": "markdown",
   "metadata": {},
   "source": [
    "The last step missing in our `LightningModule` is the optimizer. This method needs to be defined in every `LightningModule`."
   ]
  },
  {
   "cell_type": "markdown",
   "metadata": {},
   "source": [
    "```python\n",
    "    def configure_optimizers(self):\n",
    "        optim = torch.optim.SGD(self.model.parameters(), self.hparams[\"learning_rate\"], momentum=0.9)\n",
    "\n",
    "        return optim\n",
    "```"
   ]
  },
  {
   "cell_type": "markdown",
   "metadata": {},
   "source": [
    "Now that we have set up the model and the training steps, we will now establish the data pipeline. PyTorch Lightning provides the `LightningDataModule` for setting up the dataloaders.\n",
    "\n",
    "Let's have a look at the implementation of `FashionMNISTDataModule` in `exercise_code.data_class`.\n",
    "\n",
    "The `prepare_data()` function intends to set up the dataset and the related transforms for it. As previously, we download the `FashionMNIST` dataset using `torchvision` and split the total training data into a training and validation set for tuning hyperparameters."
   ]
  },
  {
   "cell_type": "markdown",
   "metadata": {},
   "source": [
    "```python\n",
    "class FashionMNISTDataModule(pl.LightningDataModule):\n",
    "\n",
    "    def __init__(self, batch_size=4):\n",
    "        super().__init__()\n",
    "        self.batch_size = batch_size\n",
    "\n",
    "    def prepare_data(self):\n",
    "\n",
    "        # Define the transform\n",
    "        transform = transforms.Compose([transforms.ToTensor(),\n",
    "                                        transforms.Normalize((0.5,), (0.5,))])\n",
    "\n",
    "        # Download the Fashion-MNIST dataset\n",
    "        fashion_mnist_train_val = torchvision.datasets.FashionMNIST(root='../datasets', train=True,\n",
    "                                                                   download=True, transform=transform)\n",
    "\n",
    "        self.fashion_mnist_test = torchvision.datasets.FashionMNIST(root='../datasets', train=False,\n",
    "                                                                 download=True, transform=transform)\n",
    "\n",
    "        # Apply the Transforms\n",
    "        transform = transforms.Compose([transforms.ToTensor(),\n",
    "                                        transforms.Normalize((0.5,), (0.5,))])\n",
    "\n",
    "        # Perform the training and validation split\n",
    "        self.train_dataset, self.val_dataset = random_split(\n",
    "            fashion_mnist_train_val, [50000, 10000])\n",
    "```"
   ]
  },
  {
   "cell_type": "markdown",
   "metadata": {},
   "source": [
    "We shall now define `Dataloaders` for each of the data-splits. These data loaders can be directly called during model training!"
   ]
  },
  {
   "cell_type": "markdown",
   "metadata": {},
   "source": [
    "```python\n",
    "\n",
    "    def train_dataloader(self):\n",
    "        return DataLoader(self.train_dataset, batch_size=self.batch_size)\n",
    "\n",
    "    def val_dataloader(self):\n",
    "        return DataLoader(self.val_dataset, batch_size=self.batch_size)\n",
    "\n",
    "    def test_dataloader(self):\n",
    "        return DataLoader(self.fashion_mnist_test, batch_size=self.batch_size)\n",
    "\n",
    "```"
   ]
  },
  {
   "cell_type": "markdown",
   "metadata": {},
   "source": [
    "You can notice now that most of the code of these steps can be directly copied from a Vanilla PyTorch code. Lightning just rearranges them. This marks the end of the research part of the code.\n",
    "\n",
    "Let's see now how the `Trainer` class works:"
   ]
  },
  {
   "cell_type": "markdown",
   "metadata": {},
   "source": [
    "##  4.2 Fitting the model with a Trainer"
   ]
  },
  {
   "cell_type": "markdown",
   "metadata": {},
   "source": [
    "We will initialize the model and the data  with a set of hyperparameters given in the dictionary `hparams`.\n"
   ]
  },
  {
   "cell_type": "code",
   "execution_count": 4,
   "metadata": {},
   "outputs": [],
   "source": [
    "from IPython.display import clear_output \n",
    "\n",
    "from exercise_code.lightning_models import TwoLayerNet\n",
    "from exercise_code.data_class import FashionMNISTDataModule\n",
    "\n",
    "hparams = {\n",
    "    \"batch_size\": 16,\n",
    "    \"learning_rate\": 1e-3,\n",
    "    \"input_size\": 1 * 28 * 28,\n",
    "    \"hidden_size\": 512,\n",
    "    \"num_classes\": 10,\n",
    "    \"num_workers\": 12,# used by the dataloader, accelerate data preparation.(<= cores of cpu)\n",
    "}\n",
    "\n",
    "model = TwoLayerNet(hparams)\n",
    "data=FashionMNISTDataModule(hparams)\n",
    "data.prepare_data()"
   ]
  },
  {
   "cell_type": "markdown",
   "metadata": {},
   "source": [
    " PyTorch Lightning provides ample flexibility for training using [`Trainer`](https://pytorch-lightning.readthedocs.io/en/latest/trainer.html) class.\n",
    "Have a look at the documentation to know more about them!\n",
    "\n",
    "Let's initialize it now!"
   ]
  },
  {
   "cell_type": "code",
   "execution_count": 5,
   "metadata": {},
   "outputs": [
    {
     "name": "stderr",
     "output_type": "stream",
     "text": [
      "GPU available: True, used: True\n",
      "TPU available: False, using: 0 TPU cores\n",
      "IPU available: False, using: 0 IPUs\n",
      "HPU available: False, using: 0 HPUs\n"
     ]
    }
   ],
   "source": [
    "trainer = pl.Trainer(\n",
    "    max_epochs=2,\n",
    "    accelerator='gpu', devices=1\n",
    ")"
   ]
  },
  {
   "cell_type": "markdown",
   "metadata": {},
   "source": [
    "The argument `max_epochs` sets the maximum number of epochs for training. \n",
    "The argument `weights_summary` prints a summary of the number of weights per layer at the beginning of the training. Set it to None if the summary is not required.\n",
    " "
   ]
  },
  {
   "cell_type": "markdown",
   "metadata": {},
   "source": [
    "Here comes the actual training cell. The [`fit`](https://pytorch-lightning.readthedocs.io/en/latest/_modules/pytorch_lightning/trainer/trainer.html#Trainer.fit) function takes in the model and data to train the model with a lot more optional arguments for customization."
   ]
  },
  {
   "cell_type": "code",
   "execution_count": 6,
   "metadata": {},
   "outputs": [
    {
     "name": "stderr",
     "output_type": "stream",
     "text": [
      "Missing logger folder: /home/yipeng/i2dl/exercise_07/lightning_logs\n",
      "LOCAL_RANK: 0 - CUDA_VISIBLE_DEVICES: [0]\n",
      "\n",
      "  | Name  | Type       | Params\n",
      "-------------------------------------\n",
      "0 | model | Sequential | 407 K \n",
      "-------------------------------------\n",
      "407 K     Trainable params\n",
      "0         Non-trainable params\n",
      "407 K     Total params\n",
      "1.628     Total estimated model params size (MB)\n"
     ]
    },
    {
     "data": {
      "application/vnd.jupyter.widget-view+json": {
       "model_id": "",
       "version_major": 2,
       "version_minor": 0
      },
      "text/plain": [
       "Sanity Checking: 0it [00:00, ?it/s]"
      ]
     },
     "metadata": {},
     "output_type": "display_data"
    },
    {
     "data": {
      "application/vnd.jupyter.widget-view+json": {
       "model_id": "579dfaf65ed24b7d9cff36a9913b408f",
       "version_major": 2,
       "version_minor": 0
      },
      "text/plain": [
       "Training: 0it [00:00, ?it/s]"
      ]
     },
     "metadata": {},
     "output_type": "display_data"
    },
    {
     "data": {
      "application/vnd.jupyter.widget-view+json": {
       "model_id": "",
       "version_major": 2,
       "version_minor": 0
      },
      "text/plain": [
       "Validation: 0it [00:00, ?it/s]"
      ]
     },
     "metadata": {},
     "output_type": "display_data"
    },
    {
     "data": {
      "application/vnd.jupyter.widget-view+json": {
       "model_id": "",
       "version_major": 2,
       "version_minor": 0
      },
      "text/plain": [
       "Validation: 0it [00:00, ?it/s]"
      ]
     },
     "metadata": {},
     "output_type": "display_data"
    }
   ],
   "source": [
    "trainer.fit(model, data)"
   ]
  },
  {
   "cell_type": "markdown",
   "metadata": {},
   "source": [
    "Checkout the directory `lightning_logs`. For each run there is a new directory `version_xx` created. The rightmost argument in the progress bar, the `v_num` variable above shows the version of the current run. Each directory automatically contains a folder with checkpoints, logs and the hyperparameters for this run.\n",
    "\n",
    "As seen in the last notebook, you can have a look at the  logs of the runs in the TensorBoard  \n",
    "Use the command as in the previous notebook in your terminal \n",
    "```\n",
    "tensorboard --logdir lightning_logs\n",
    "```\n",
    "Make sure to use the above command as the same directory as `exercise_07`."
   ]
  },
  {
   "cell_type": "markdown",
   "metadata": {},
   "source": [
    "If you are using Google Colab, run the following cell to load the TensorBoard extension within the notebook. You may have to scroll to this block whenever you need to look at the TensorBoard interface."
   ]
  },
  {
   "cell_type": "code",
   "execution_count": null,
   "metadata": {},
   "outputs": [],
   "source": [
    "# %load_ext tensorboard\n",
    "# %tensorboard --logdir lightning_logs"
   ]
  },
  {
   "cell_type": "markdown",
   "metadata": {},
   "source": [
    "## 4.3 Add images to tensorboard"
   ]
  },
  {
   "cell_type": "markdown",
   "metadata": {},
   "source": [
    "The tensorboard logger is a submodule of the `LightningModule` and can be accessed via `self.logger`. We can  add images  to the logging module by calling \n",
    "```python\n",
    "self.logger.experiment.add_image('tag', image)\n",
    "```\n",
    "to add an image. \n",
    "\n",
    "\n",
    "We will log the first batch of validation images in a grid together with the predicted class labels and the ground truth labels. \n",
    "\n",
    "```python\n",
    "        if batch_idx == 0:\n",
    "            self.visualize_predictions(images, out.detach(), targets)\n",
    "```\n",
    "\n",
    "Let's have a look at the implementation of `visualize_predictions()` function in `exercise_code.lightning_models`.\n",
    "\n",
    "\n",
    "\n",
    "```python\n",
    "    def visualize_predictions(self, images, preds, targets):\n",
    "        class_names = ['airplane', 'automobile', 'bird', 'cat', 'deer', \n",
    "                       'dog', 'frog', 'horse', 'ship', 'truck']\n",
    "\n",
    "        # determine size of the grid based on given batch size\n",
    "        num_rows = torch.tensor(len(images)).float().sqrt().floor()\n",
    "        \n",
    "        fig = plt.figure(figsize=(10, 10))\n",
    "        for i in range(len(images)):\n",
    "            plt.subplot(num_rows ,len(images) // num_rows + 1, i+1)\n",
    "            plt.imshow(images[i].permute(1, 2, 0))\n",
    "            plt.title(class_names[torch.argmax(preds, axis=-1)[i]] + f'\\n[{class_names[targets[i]]}]')\n",
    "            plt.axis('off')\n",
    "\n",
    "        self.logger.experiment.add_figure('predictions', fig, global_step=self.global_step)\n",
    "```\n",
    "\n",
    "You can view the logged images in your `IMAGES` tab of TensorBoard."
   ]
  },
  {
   "cell_type": "markdown",
   "metadata": {},
   "source": [
    "We have now looked at how to train a model using PyTorch Lightning. PyTorch Lightning is very active in developement and the features set are continously expanded and updated.\n"
   ]
  },
  {
   "cell_type": "markdown",
   "metadata": {},
   "source": [
    "# 4. Other Features of PyTorch Lightning\n",
    "\n",
    "\n",
    "### Checking  training timings\n",
    "\n",
    "The argument `profiler` of the `Trainer` class measures the time taken in different steps such as dataloading, forward and backward pass. You can select a variety of profiler [here](https://pytorch-lightning.readthedocs.io/en/stable/advanced/profiler.html).\n",
    "\n",
    "Run the cell below to see for yourself."
   ]
  },
  {
   "cell_type": "code",
   "execution_count": 7,
   "metadata": {},
   "outputs": [
    {
     "name": "stderr",
     "output_type": "stream",
     "text": [
      "GPU available: True, used: True\n",
      "TPU available: False, using: 0 TPU cores\n",
      "IPU available: False, using: 0 IPUs\n",
      "HPU available: False, using: 0 HPUs\n",
      "LOCAL_RANK: 0 - CUDA_VISIBLE_DEVICES: [0]\n",
      "\n",
      "  | Name  | Type       | Params\n",
      "-------------------------------------\n",
      "0 | model | Sequential | 407 K \n",
      "-------------------------------------\n",
      "407 K     Trainable params\n",
      "0         Non-trainable params\n",
      "407 K     Total params\n",
      "1.628     Total estimated model params size (MB)\n"
     ]
    },
    {
     "data": {
      "application/vnd.jupyter.widget-view+json": {
       "model_id": "",
       "version_major": 2,
       "version_minor": 0
      },
      "text/plain": [
       "Sanity Checking: 0it [00:00, ?it/s]"
      ]
     },
     "metadata": {},
     "output_type": "display_data"
    },
    {
     "data": {
      "application/vnd.jupyter.widget-view+json": {
       "model_id": "9ec256b6fb2c4cdb8772bbd186cef080",
       "version_major": 2,
       "version_minor": 0
      },
      "text/plain": [
       "Training: 0it [00:00, ?it/s]"
      ]
     },
     "metadata": {},
     "output_type": "display_data"
    },
    {
     "data": {
      "application/vnd.jupyter.widget-view+json": {
       "model_id": "",
       "version_major": 2,
       "version_minor": 0
      },
      "text/plain": [
       "Validation: 0it [00:00, ?it/s]"
      ]
     },
     "metadata": {},
     "output_type": "display_data"
    },
    {
     "name": "stderr",
     "output_type": "stream",
     "text": [
      "FIT Profiler Report\n",
      "\n",
      "------------------------------------------------------------------------------------------------------------------------------------------------------------------------------------------------------------------------------------------------------------------------------------------------------------------\n",
      "|  Action                                                                                                                                                                                                    \t|  Mean duration (s)\t|  Num calls      \t|  Total time (s) \t|  Percentage %   \t|\n",
      "------------------------------------------------------------------------------------------------------------------------------------------------------------------------------------------------------------------------------------------------------------------------------------------------------------------\n",
      "|  Total                                                                                                                                                                                                     \t|  -              \t|  137063         \t|  18.433         \t|  100 %          \t|\n",
      "------------------------------------------------------------------------------------------------------------------------------------------------------------------------------------------------------------------------------------------------------------------------------------------------------------------\n",
      "|  run_training_epoch                                                                                                                                                                                        \t|  17.718         \t|  1              \t|  17.718         \t|  96.124         \t|\n",
      "|  run_training_batch                                                                                                                                                                                        \t|  0.0017336      \t|  3125           \t|  5.4176         \t|  29.391         \t|\n",
      "|  [LightningModule]TwoLayerNet.optimizer_step                                                                                                                                                               \t|  0.0015141      \t|  3125           \t|  4.7317         \t|  25.67          \t|\n",
      "|  on_train_batch_end                                                                                                                                                                                        \t|  0.001247       \t|  3125           \t|  3.8968         \t|  21.14          \t|\n",
      "|  [Strategy]SingleDeviceStrategy.training_step                                                                                                                                                              \t|  0.00058183     \t|  3125           \t|  1.8182         \t|  9.8641         \t|\n",
      "|  [Strategy]SingleDeviceStrategy.backward                                                                                                                                                                   \t|  0.00042336     \t|  3125           \t|  1.323          \t|  7.1774         \t|\n",
      "|  [Strategy]SingleDeviceStrategy.validation_step                                                                                                                                                            \t|  0.0013669      \t|  627            \t|  0.85702        \t|  4.6494         \t|\n",
      "|  [Callback]TQDMProgressBar.on_validation_batch_end                                                                                                                                                         \t|  0.00092905     \t|  627            \t|  0.58252        \t|  3.1602         \t|\n",
      "|  [Strategy]SingleDeviceStrategy.batch_to_device                                                                                                                                                            \t|  0.00012832     \t|  3752           \t|  0.48144        \t|  2.6119         \t|\n",
      "|  on_train_batch_start                                                                                                                                                                                      \t|  0.00012484     \t|  3125           \t|  0.39012        \t|  2.1164         \t|\n",
      "|  [LightningModule]TwoLayerNet.optimizer_zero_grad                                                                                                                                                          \t|  6.9199e-05     \t|  3125           \t|  0.21625        \t|  1.1732         \t|\n",
      "|  [Callback]TQDMProgressBar.on_train_start                                                                                                                                                                  \t|  0.023594       \t|  1              \t|  0.023594       \t|  0.128          \t|\n",
      "|  [Callback]TQDMProgressBar.on_validation_start                                                                                                                                                             \t|  0.008077       \t|  2              \t|  0.016154       \t|  0.087637       \t|\n",
      "|  [Callback]TQDMProgressBar.on_sanity_check_start                                                                                                                                                           \t|  0.015938       \t|  1              \t|  0.015938       \t|  0.086464       \t|\n",
      "|  [Callback]TQDMProgressBar.on_batch_start                                                                                                                                                                  \t|  3.5849e-06     \t|  3125           \t|  0.011203       \t|  0.060777       \t|\n",
      "|  [Callback]TQDMProgressBar.on_before_zero_grad                                                                                                                                                             \t|  3.4843e-06     \t|  3125           \t|  0.010889       \t|  0.059071       \t|\n",
      "|  [Callback]TQDMProgressBar.on_after_backward                                                                                                                                                               \t|  3.1629e-06     \t|  3125           \t|  0.0098841      \t|  0.053622       \t|\n",
      "|  [Callback]TQDMProgressBar.on_batch_end                                                                                                                                                                    \t|  2.8485e-06     \t|  3125           \t|  0.0089017      \t|  0.048292       \t|\n",
      "|  [Callback]TQDMProgressBar.on_before_backward                                                                                                                                                              \t|  2.7036e-06     \t|  3125           \t|  0.0084489      \t|  0.045836       \t|\n",
      "|  [Callback]TQDMProgressBar.on_validation_batch_start                                                                                                                                                       \t|  1.3448e-05     \t|  627            \t|  0.0084321      \t|  0.045745       \t|\n",
      "|  [Callback]TQDMProgressBar.on_before_optimizer_step                                                                                                                                                        \t|  2.4047e-06     \t|  3125           \t|  0.0075147      \t|  0.040768       \t|\n",
      "|  [Callback]ModelCheckpoint{'monitor': None, 'mode': 'min', 'every_n_train_steps': 0, 'every_n_epochs': 1, 'train_time_interval': None, 'save_on_train_epoch_end': True}.on_train_epoch_end                 \t|  0.007176       \t|  1              \t|  0.007176       \t|  0.03893        \t|\n",
      "|  [Callback]ModelSummary.on_batch_start                                                                                                                                                                     \t|  2.2933e-06     \t|  3125           \t|  0.0071667      \t|  0.03888        \t|\n",
      "|  [Callback]ModelSummary.on_before_zero_grad                                                                                                                                                                \t|  2.2649e-06     \t|  3125           \t|  0.0070777      \t|  0.038397       \t|\n",
      "|  [Callback]ModelCheckpoint{'monitor': None, 'mode': 'min', 'every_n_train_steps': 0, 'every_n_epochs': 1, 'train_time_interval': None, 'save_on_train_epoch_end': True}.on_before_zero_grad                \t|  2.2405e-06     \t|  3125           \t|  0.0070016      \t|  0.037984       \t|\n",
      "|  [Callback]ModelCheckpoint{'monitor': None, 'mode': 'min', 'every_n_train_steps': 0, 'every_n_epochs': 1, 'train_time_interval': None, 'save_on_train_epoch_end': True}.on_before_backward                 \t|  2.2247e-06     \t|  3125           \t|  0.0069521      \t|  0.037716       \t|\n",
      "|  [Callback]ModelSummary.on_after_backward                                                                                                                                                                  \t|  2.1724e-06     \t|  3125           \t|  0.0067889      \t|  0.03683        \t|\n",
      "|  [Callback]GradientAccumulationScheduler.on_batch_start                                                                                                                                                    \t|  2.1695e-06     \t|  3125           \t|  0.0067796      \t|  0.03678        \t|\n",
      "|  [Callback]ModelCheckpoint{'monitor': None, 'mode': 'min', 'every_n_train_steps': 0, 'every_n_epochs': 1, 'train_time_interval': None, 'save_on_train_epoch_end': True}.on_batch_start                     \t|  2.1425e-06     \t|  3125           \t|  0.0066955      \t|  0.036323       \t|\n",
      "|  [Callback]GradientAccumulationScheduler.on_before_zero_grad                                                                                                                                               \t|  2.0748e-06     \t|  3125           \t|  0.0064838      \t|  0.035175       \t|\n",
      "|  [Callback]ModelSummary.on_batch_end                                                                                                                                                                       \t|  2.0727e-06     \t|  3125           \t|  0.0064771      \t|  0.035139       \t|\n",
      "|  [Callback]ModelSummary.on_before_backward                                                                                                                                                                 \t|  2.0444e-06     \t|  3125           \t|  0.0063888      \t|  0.03466        \t|\n",
      "|  [Callback]ModelCheckpoint{'monitor': None, 'mode': 'min', 'every_n_train_steps': 0, 'every_n_epochs': 1, 'train_time_interval': None, 'save_on_train_epoch_end': True}.on_before_optimizer_step           \t|  2.0426e-06     \t|  3125           \t|  0.006383       \t|  0.034628       \t|\n",
      "|  [Callback]ModelCheckpoint{'monitor': None, 'mode': 'min', 'every_n_train_steps': 0, 'every_n_epochs': 1, 'train_time_interval': None, 'save_on_train_epoch_end': True}.on_batch_end                       \t|  2.0257e-06     \t|  3125           \t|  0.0063302      \t|  0.034342       \t|\n",
      "|  [Callback]ModelCheckpoint{'monitor': None, 'mode': 'min', 'every_n_train_steps': 0, 'every_n_epochs': 1, 'train_time_interval': None, 'save_on_train_epoch_end': True}.on_after_backward                  \t|  2.0222e-06     \t|  3125           \t|  0.0063195      \t|  0.034284       \t|\n",
      "|  [Callback]GradientAccumulationScheduler.on_batch_end                                                                                                                                                      \t|  2.0161e-06     \t|  3125           \t|  0.0063003      \t|  0.034179       \t|\n",
      "|  [Callback]ModelSummary.on_before_optimizer_step                                                                                                                                                           \t|  1.9529e-06     \t|  3125           \t|  0.0061027      \t|  0.033108       \t|\n",
      "|  [Callback]GradientAccumulationScheduler.on_before_optimizer_step                                                                                                                                          \t|  1.9303e-06     \t|  3125           \t|  0.0060321      \t|  0.032725       \t|\n",
      "|  [Callback]GradientAccumulationScheduler.on_before_backward                                                                                                                                                \t|  1.912e-06      \t|  3125           \t|  0.0059751      \t|  0.032415       \t|\n",
      "|  [Callback]GradientAccumulationScheduler.on_after_backward                                                                                                                                                 \t|  1.8712e-06     \t|  3125           \t|  0.0058476      \t|  0.031724       \t|\n",
      "|  [Callback]ModelSummary.on_validation_batch_end                                                                                                                                                            \t|  8.9231e-06     \t|  627            \t|  0.0055948      \t|  0.030352       \t|\n",
      "|  [LightningModule]TwoLayerNet.validation_epoch_end                                                                                                                                                         \t|  0.0023138      \t|  2              \t|  0.0046277      \t|  0.025105       \t|\n",
      "|  [LightningModule]TwoLayerNet.on_train_batch_end                                                                                                                                                           \t|  1.3864e-06     \t|  3125           \t|  0.0043327      \t|  0.023505       \t|\n",
      "|  [LightningModule]TwoLayerNet.training_step_end                                                                                                                                                            \t|  1.3053e-06     \t|  3125           \t|  0.0040791      \t|  0.022129       \t|\n",
      "|  [LightningModule]TwoLayerNet.on_train_batch_start                                                                                                                                                         \t|  1.1828e-06     \t|  3125           \t|  0.0036961      \t|  0.020052       \t|\n",
      "|  [Strategy]SingleDeviceStrategy.on_train_batch_start                                                                                                                                                       \t|  1.1471e-06     \t|  3125           \t|  0.0035847      \t|  0.019447       \t|\n",
      "|  [Strategy]SingleDeviceStrategy.training_step_end                                                                                                                                                          \t|  1.115e-06      \t|  3125           \t|  0.0034842      \t|  0.018902       \t|\n",
      "|  [LightningModule]TwoLayerNet.on_after_backward                                                                                                                                                            \t|  9.1415e-07     \t|  3125           \t|  0.0028567      \t|  0.015498       \t|\n",
      "|  [LightningModule]TwoLayerNet.on_before_zero_grad                                                                                                                                                          \t|  9.0428e-07     \t|  3125           \t|  0.0028259      \t|  0.015331       \t|\n",
      "|  [LightningModule]TwoLayerNet.on_before_backward                                                                                                                                                           \t|  8.1372e-07     \t|  3125           \t|  0.0025429      \t|  0.013795       \t|\n",
      "|  [LightningModule]TwoLayerNet.on_before_optimizer_step                                                                                                                                                     \t|  7.6037e-07     \t|  3125           \t|  0.0023761      \t|  0.012891       \t|\n",
      "|  [Callback]ModelSummary.on_validation_batch_start                                                                                                                                                          \t|  3.4393e-06     \t|  627            \t|  0.0021564      \t|  0.011699       \t|\n",
      "|  [Callback]GradientAccumulationScheduler.on_validation_batch_end                                                                                                                                           \t|  2.968e-06      \t|  627            \t|  0.0018609      \t|  0.010096       \t|\n",
      "|  [Callback]ModelCheckpoint{'monitor': None, 'mode': 'min', 'every_n_train_steps': 0, 'every_n_epochs': 1, 'train_time_interval': None, 'save_on_train_epoch_end': True}.on_validation_batch_start          \t|  2.7771e-06     \t|  627            \t|  0.0017412      \t|  0.0094463      \t|\n",
      "|  [Callback]ModelCheckpoint{'monitor': None, 'mode': 'min', 'every_n_train_steps': 0, 'every_n_epochs': 1, 'train_time_interval': None, 'save_on_train_epoch_end': True}.on_validation_batch_end            \t|  2.6249e-06     \t|  627            \t|  0.0016458      \t|  0.0089287      \t|\n",
      "|  [Callback]GradientAccumulationScheduler.on_validation_batch_start                                                                                                                                         \t|  2.6188e-06     \t|  627            \t|  0.001642       \t|  0.008908       \t|\n",
      "|  [Callback]TQDMProgressBar.on_validation_end                                                                                                                                                               \t|  0.00078292     \t|  2              \t|  0.0015658      \t|  0.0084948      \t|\n",
      "|  [LightningModule]TwoLayerNet.validation_step_end                                                                                                                                                          \t|  1.6544e-06     \t|  627            \t|  0.0010373      \t|  0.0056275      \t|\n",
      "|  [Callback]ModelSummary.on_fit_start                                                                                                                                                                       \t|  0.00088482     \t|  1              \t|  0.00088482     \t|  0.0048002      \t|\n",
      "|  [LightningModule]TwoLayerNet.on_validation_batch_start                                                                                                                                                    \t|  1.2058e-06     \t|  627            \t|  0.00075606     \t|  0.0041017      \t|\n",
      "|  [Strategy]SingleDeviceStrategy.validation_step_end                                                                                                                                                        \t|  1.1836e-06     \t|  627            \t|  0.00074212     \t|  0.0040261      \t|\n",
      "|  [LightningModule]TwoLayerNet.on_validation_batch_end                                                                                                                                                      \t|  1.1613e-06     \t|  627            \t|  0.00072816     \t|  0.0039503      \t|\n",
      "|  [Callback]TQDMProgressBar.on_train_end                                                                                                                                                                    \t|  0.00072176     \t|  1              \t|  0.00072176     \t|  0.0039156      \t|\n",
      "|  [Callback]TQDMProgressBar.on_train_epoch_start                                                                                                                                                            \t|  0.00069551     \t|  1              \t|  0.00069551     \t|  0.0037732      \t|\n",
      "|  [Callback]TQDMProgressBar.on_train_epoch_end                                                                                                                                                              \t|  0.00045803     \t|  1              \t|  0.00045803     \t|  0.0024849      \t|\n",
      "|  [LightningModule]TwoLayerNet.on_validation_model_train                                                                                                                                                    \t|  5.6626e-05     \t|  2              \t|  0.00011325     \t|  0.0006144      \t|\n",
      "|  [Callback]ModelCheckpoint{'monitor': None, 'mode': 'min', 'every_n_train_steps': 0, 'every_n_epochs': 1, 'train_time_interval': None, 'save_on_train_epoch_end': None}.setup                              \t|  9.8103e-05     \t|  1              \t|  9.8103e-05     \t|  0.00053222     \t|\n",
      "|  [LightningModule]TwoLayerNet.on_validation_model_eval                                                                                                                                                     \t|  3.5846e-05     \t|  2              \t|  7.1692e-05     \t|  0.00038894     \t|\n",
      "|  [LightningModule]TwoLayerNet.configure_optimizers                                                                                                                                                         \t|  6.0096e-05     \t|  1              \t|  6.0096e-05     \t|  0.00032603     \t|\n",
      "|  [Callback]ModelCheckpoint{'monitor': None, 'mode': 'min', 'every_n_train_steps': 0, 'every_n_epochs': 1, 'train_time_interval': None, 'save_on_train_epoch_end': True}.on_validation_end                  \t|  2.9226e-05     \t|  2              \t|  5.8452e-05     \t|  0.00031711     \t|\n",
      "|  [Callback]ModelSummary.on_validation_start                                                                                                                                                                \t|  8.831e-06      \t|  2              \t|  1.7662e-05     \t|  9.5818e-05     \t|\n",
      "|  [Callback]ModelSummary.on_validation_end                                                                                                                                                                  \t|  8.4515e-06     \t|  2              \t|  1.6903e-05     \t|  9.17e-05       \t|\n",
      "|  [Callback]ModelSummary.on_train_start                                                                                                                                                                     \t|  1.528e-05      \t|  1              \t|  1.528e-05      \t|  8.2895e-05     \t|\n",
      "|  [Callback]ModelSummary.on_train_epoch_start                                                                                                                                                               \t|  1.3959e-05     \t|  1              \t|  1.3959e-05     \t|  7.5729e-05     \t|\n",
      "|  [Callback]ModelSummary.on_sanity_check_start                                                                                                                                                              \t|  1.2165e-05     \t|  1              \t|  1.2165e-05     \t|  6.5996e-05     \t|\n",
      "|  [LightningModule]TwoLayerNet.on_validation_epoch_end                                                                                                                                                      \t|  5.7635e-06     \t|  2              \t|  1.1527e-05     \t|  6.2535e-05     \t|\n",
      "|  [Callback]TQDMProgressBar.on_epoch_start                                                                                                                                                                  \t|  3.4207e-06     \t|  3              \t|  1.0262e-05     \t|  5.5672e-05     \t|\n",
      "|  [Callback]TQDMProgressBar.on_validation_epoch_end                                                                                                                                                         \t|  4.017e-06      \t|  2              \t|  8.034e-06      \t|  4.3585e-05     \t|\n",
      "|  [Callback]TQDMProgressBar.on_epoch_end                                                                                                                                                                    \t|  2.662e-06      \t|  3              \t|  7.986e-06      \t|  4.3325e-05     \t|\n",
      "|  [Callback]GradientAccumulationScheduler.on_fit_start                                                                                                                                                      \t|  7.98e-06       \t|  1              \t|  7.98e-06       \t|  4.3292e-05     \t|\n",
      "|  [Callback]GradientAccumulationScheduler.on_train_epoch_start                                                                                                                                              \t|  7.666e-06      \t|  1              \t|  7.666e-06      \t|  4.1589e-05     \t|\n",
      "|  [Callback]TQDMProgressBar.on_sanity_check_end                                                                                                                                                             \t|  7.506e-06      \t|  1              \t|  7.506e-06      \t|  4.0721e-05     \t|\n",
      "|  [Callback]ModelCheckpoint{'monitor': None, 'mode': 'min', 'every_n_train_steps': 0, 'every_n_epochs': 1, 'train_time_interval': None, 'save_on_train_epoch_end': True}.on_epoch_start                     \t|  2.445e-06      \t|  3              \t|  7.335e-06      \t|  3.9793e-05     \t|\n",
      "|  [Callback]ModelSummary.on_epoch_start                                                                                                                                                                     \t|  2.4053e-06     \t|  3              \t|  7.216e-06      \t|  3.9147e-05     \t|\n",
      "|  [Callback]GradientAccumulationScheduler.on_epoch_start                                                                                                                                                    \t|  2.372e-06      \t|  3              \t|  7.116e-06      \t|  3.8605e-05     \t|\n",
      "|  [Callback]GradientAccumulationScheduler.on_validation_start                                                                                                                                               \t|  3.2555e-06     \t|  2              \t|  6.511e-06      \t|  3.5323e-05     \t|\n",
      "|  [Callback]ModelCheckpoint{'monitor': None, 'mode': 'min', 'every_n_train_steps': 0, 'every_n_epochs': 1, 'train_time_interval': None, 'save_on_train_epoch_end': True}.on_validation_start                \t|  3.2165e-06     \t|  2              \t|  6.433e-06      \t|  3.49e-05       \t|\n",
      "|  [Callback]TQDMProgressBar.on_save_checkpoint                                                                                                                                                              \t|  6.106e-06      \t|  1              \t|  6.106e-06      \t|  3.3126e-05     \t|\n",
      "|  [Callback]ModelSummary.on_train_end                                                                                                                                                                       \t|  5.918e-06      \t|  1              \t|  5.918e-06      \t|  3.2106e-05     \t|\n",
      "|  [Callback]TQDMProgressBar.on_validation_epoch_start                                                                                                                                                       \t|  2.8895e-06     \t|  2              \t|  5.779e-06      \t|  3.1352e-05     \t|\n",
      "|  [Callback]ModelCheckpoint{'monitor': None, 'mode': 'min', 'every_n_train_steps': 0, 'every_n_epochs': 1, 'train_time_interval': None, 'save_on_train_epoch_end': True}.on_epoch_end                       \t|  1.8783e-06     \t|  3              \t|  5.635e-06      \t|  3.057e-05      \t|\n",
      "|  [Callback]ModelSummary.on_train_epoch_end                                                                                                                                                                 \t|  5.461e-06      \t|  1              \t|  5.461e-06      \t|  2.9626e-05     \t|\n",
      "|  [Callback]ModelSummary.on_epoch_end                                                                                                                                                                       \t|  1.8097e-06     \t|  3              \t|  5.429e-06      \t|  2.9453e-05     \t|\n",
      "|  [Callback]GradientAccumulationScheduler.on_epoch_end                                                                                                                                                      \t|  1.7633e-06     \t|  3              \t|  5.29e-06       \t|  2.8699e-05     \t|\n",
      "|  [Callback]ModelCheckpoint{'monitor': None, 'mode': 'min', 'every_n_train_steps': 0, 'every_n_epochs': 1, 'train_time_interval': None, 'save_on_train_epoch_end': True}.on_validation_epoch_start          \t|  2.594e-06      \t|  2              \t|  5.188e-06      \t|  2.8145e-05     \t|\n",
      "|  [Callback]TQDMProgressBar.setup                                                                                                                                                                           \t|  5.121e-06      \t|  1              \t|  5.121e-06      \t|  2.7782e-05     \t|\n",
      "|  [Callback]TQDMProgressBar.on_fit_start                                                                                                                                                                    \t|  5.08e-06       \t|  1              \t|  5.08e-06       \t|  2.7559e-05     \t|\n",
      "|  [Callback]GradientAccumulationScheduler.on_validation_end                                                                                                                                                 \t|  2.5105e-06     \t|  2              \t|  5.021e-06      \t|  2.7239e-05     \t|\n",
      "|  [Callback]ModelSummary.on_validation_epoch_start                                                                                                                                                          \t|  2.4695e-06     \t|  2              \t|  4.939e-06      \t|  2.6794e-05     \t|\n",
      "|  [Callback]TQDMProgressBar.on_fit_end                                                                                                                                                                      \t|  4.701e-06      \t|  1              \t|  4.701e-06      \t|  2.5503e-05     \t|\n",
      "|  [Callback]ModelSummary.on_validation_epoch_end                                                                                                                                                            \t|  2.319e-06      \t|  2              \t|  4.638e-06      \t|  2.5162e-05     \t|\n",
      "|  [Callback]GradientAccumulationScheduler.on_validation_epoch_start                                                                                                                                         \t|  2.3175e-06     \t|  2              \t|  4.635e-06      \t|  2.5145e-05     \t|\n",
      "|  [LightningModule]TwoLayerNet.on_train_epoch_end                                                                                                                                                           \t|  4.621e-06      \t|  1              \t|  4.621e-06      \t|  2.5069e-05     \t|\n",
      "|  [Callback]TQDMProgressBar.on_pretrain_routine_start                                                                                                                                                       \t|  4.109e-06      \t|  1              \t|  4.109e-06      \t|  2.2292e-05     \t|\n",
      "|  [Callback]ModelCheckpoint{'monitor': None, 'mode': 'min', 'every_n_train_steps': 0, 'every_n_epochs': 1, 'train_time_interval': None, 'save_on_train_epoch_end': True}.on_validation_epoch_end            \t|  2.0515e-06     \t|  2              \t|  4.103e-06      \t|  2.2259e-05     \t|\n",
      "|  [Callback]ModelCheckpoint{'monitor': None, 'mode': 'min', 'every_n_train_steps': 0, 'every_n_epochs': 1, 'train_time_interval': None, 'save_on_train_epoch_end': True}.on_train_start                     \t|  3.957e-06      \t|  1              \t|  3.957e-06      \t|  2.1467e-05     \t|\n",
      "|  [Callback]GradientAccumulationScheduler.on_validation_epoch_end                                                                                                                                           \t|  1.937e-06      \t|  2              \t|  3.874e-06      \t|  2.1017e-05     \t|\n",
      "|  [Strategy]SingleDeviceStrategy.on_validation_end                                                                                                                                                          \t|  1.9315e-06     \t|  2              \t|  3.863e-06      \t|  2.0957e-05     \t|\n",
      "|  [LightningModule]TwoLayerNet.on_epoch_start                                                                                                                                                               \t|  1.1537e-06     \t|  3              \t|  3.461e-06      \t|  1.8776e-05     \t|\n",
      "|  [Callback]GradientAccumulationScheduler.on_train_start                                                                                                                                                    \t|  3.279e-06      \t|  1              \t|  3.279e-06      \t|  1.7789e-05     \t|\n",
      "|  [Callback]ModelCheckpoint{'monitor': None, 'mode': 'min', 'every_n_train_steps': 0, 'every_n_epochs': 1, 'train_time_interval': None, 'save_on_train_epoch_end': True}.on_fit_start                       \t|  3.23e-06       \t|  1              \t|  3.23e-06       \t|  1.7523e-05     \t|\n",
      "|  [Callback]TQDMProgressBar.on_before_accelerator_backend_setup                                                                                                                                             \t|  3.199e-06      \t|  1              \t|  3.199e-06      \t|  1.7355e-05     \t|\n",
      "|  [Callback]ModelSummary.on_sanity_check_end                                                                                                                                                                \t|  3.159e-06      \t|  1              \t|  3.159e-06      \t|  1.7138e-05     \t|\n",
      "|  [Callback]ModelCheckpoint{'monitor': None, 'mode': 'min', 'every_n_train_steps': 0, 'every_n_epochs': 1, 'train_time_interval': None, 'save_on_train_epoch_end': True}.on_train_epoch_start               \t|  3.054e-06      \t|  1              \t|  3.054e-06      \t|  1.6568e-05     \t|\n",
      "|  [LightningModule]TwoLayerNet.on_validation_start                                                                                                                                                          \t|  1.4215e-06     \t|  2              \t|  2.843e-06      \t|  1.5424e-05     \t|\n",
      "|  [LightningModule]TwoLayerNet.prepare_data                                                                                                                                                                 \t|  2.83e-06       \t|  1              \t|  2.83e-06       \t|  1.5353e-05     \t|\n",
      "|  [Callback]TQDMProgressBar.teardown                                                                                                                                                                        \t|  2.673e-06      \t|  1              \t|  2.673e-06      \t|  1.4501e-05     \t|\n",
      "|  [Callback]ModelCheckpoint{'monitor': None, 'mode': 'min', 'every_n_train_steps': 0, 'every_n_epochs': 1, 'train_time_interval': None, 'save_on_train_epoch_end': True}.on_sanity_check_end                \t|  2.643e-06      \t|  1              \t|  2.643e-06      \t|  1.4339e-05     \t|\n",
      "|  [Callback]TQDMProgressBar.on_configure_sharded_model                                                                                                                                                      \t|  2.517e-06      \t|  1              \t|  2.517e-06      \t|  1.3655e-05     \t|\n",
      "|  [Callback]GradientAccumulationScheduler.on_sanity_check_end                                                                                                                                               \t|  2.514e-06      \t|  1              \t|  2.514e-06      \t|  1.3639e-05     \t|\n",
      "|  [LightningModule]TwoLayerNet.on_fit_end                                                                                                                                                                   \t|  2.471e-06      \t|  1              \t|  2.471e-06      \t|  1.3405e-05     \t|\n",
      "|  [LightningModule]TwoLayerNet.configure_callbacks                                                                                                                                                          \t|  2.448e-06      \t|  1              \t|  2.448e-06      \t|  1.3281e-05     \t|\n",
      "|  [Callback]ModelSummary.setup                                                                                                                                                                              \t|  2.429e-06      \t|  1              \t|  2.429e-06      \t|  1.3178e-05     \t|\n",
      "|  [Callback]ModelSummary.on_save_checkpoint                                                                                                                                                                 \t|  2.365e-06      \t|  1              \t|  2.365e-06      \t|  1.283e-05      \t|\n",
      "|  [Callback]GradientAccumulationScheduler.on_train_end                                                                                                                                                      \t|  2.357e-06      \t|  1              \t|  2.357e-06      \t|  1.2787e-05     \t|\n",
      "|  [Callback]ModelCheckpoint{'monitor': None, 'mode': 'min', 'every_n_train_steps': 0, 'every_n_epochs': 1, 'train_time_interval': None, 'save_on_train_epoch_end': True}.on_train_end                       \t|  2.352e-06      \t|  1              \t|  2.352e-06      \t|  1.276e-05      \t|\n",
      "|  [Callback]ModelSummary.on_fit_end                                                                                                                                                                         \t|  2.278e-06      \t|  1              \t|  2.278e-06      \t|  1.2358e-05     \t|\n",
      "|  [LightningModule]TwoLayerNet.on_validation_end                                                                                                                                                            \t|  1.116e-06      \t|  2              \t|  2.232e-06      \t|  1.2109e-05     \t|\n",
      "|  [Callback]GradientAccumulationScheduler.on_sanity_check_start                                                                                                                                             \t|  2.231e-06      \t|  1              \t|  2.231e-06      \t|  1.2103e-05     \t|\n",
      "|  [Strategy]SingleDeviceStrategy.on_validation_start                                                                                                                                                        \t|  1.1045e-06     \t|  2              \t|  2.209e-06      \t|  1.1984e-05     \t|\n",
      "|  [LightningModule]TwoLayerNet.on_epoch_end                                                                                                                                                                 \t|  7.2467e-07     \t|  3              \t|  2.174e-06      \t|  1.1794e-05     \t|\n",
      "|  [Callback]GradientAccumulationScheduler.on_save_checkpoint                                                                                                                                                \t|  2.174e-06      \t|  1              \t|  2.174e-06      \t|  1.1794e-05     \t|\n",
      "|  [Callback]GradientAccumulationScheduler.on_train_epoch_end                                                                                                                                                \t|  2.152e-06      \t|  1              \t|  2.152e-06      \t|  1.1675e-05     \t|\n",
      "|  [LightningModule]TwoLayerNet.on_train_dataloader                                                                                                                                                          \t|  2.146e-06      \t|  1              \t|  2.146e-06      \t|  1.1642e-05     \t|\n",
      "|  [LightningModule]TwoLayerNet.on_validation_epoch_start                                                                                                                                                    \t|  1.072e-06      \t|  2              \t|  2.144e-06      \t|  1.1631e-05     \t|\n",
      "|  [Callback]ModelCheckpoint{'monitor': None, 'mode': 'min', 'every_n_train_steps': 0, 'every_n_epochs': 1, 'train_time_interval': None, 'save_on_train_epoch_end': True}.on_sanity_check_start              \t|  2.124e-06      \t|  1              \t|  2.124e-06      \t|  1.1523e-05     \t|\n",
      "|  [Callback]ModelSummary.on_pretrain_routine_start                                                                                                                                                          \t|  2.122e-06      \t|  1              \t|  2.122e-06      \t|  1.1512e-05     \t|\n",
      "|  [Callback]TQDMProgressBar.on_pretrain_routine_end                                                                                                                                                         \t|  2.04e-06       \t|  1              \t|  2.04e-06       \t|  1.1067e-05     \t|\n",
      "|  [Callback]ModelCheckpoint{'monitor': None, 'mode': 'min', 'every_n_train_steps': 0, 'every_n_epochs': 1, 'train_time_interval': None, 'save_on_train_epoch_end': True}.on_configure_sharded_model         \t|  1.981e-06      \t|  1              \t|  1.981e-06      \t|  1.0747e-05     \t|\n",
      "|  [Callback]ModelCheckpoint{'monitor': None, 'mode': 'min', 'every_n_train_steps': 0, 'every_n_epochs': 1, 'train_time_interval': None, 'save_on_train_epoch_end': True}.on_pretrain_routine_start          \t|  1.976e-06      \t|  1              \t|  1.976e-06      \t|  1.072e-05      \t|\n",
      "|  [Callback]ModelSummary.on_before_accelerator_backend_setup                                                                                                                                                \t|  1.962e-06      \t|  1              \t|  1.962e-06      \t|  1.0644e-05     \t|\n",
      "|  [Callback]ModelCheckpoint{'monitor': None, 'mode': 'min', 'every_n_train_steps': 0, 'every_n_epochs': 1, 'train_time_interval': None, 'save_on_train_epoch_end': None}.on_before_accelerator_backend_setup\t|  1.952e-06      \t|  1              \t|  1.952e-06      \t|  1.059e-05      \t|\n",
      "|  [Callback]ModelCheckpoint{'monitor': None, 'mode': 'min', 'every_n_train_steps': 0, 'every_n_epochs': 1, 'train_time_interval': None, 'save_on_train_epoch_end': True}.on_fit_end                         \t|  1.952e-06      \t|  1              \t|  1.952e-06      \t|  1.059e-05      \t|\n",
      "|  [Callback]ModelCheckpoint{'monitor': None, 'mode': 'min', 'every_n_train_steps': 0, 'every_n_epochs': 1, 'train_time_interval': None, 'save_on_train_epoch_end': True}.on_save_checkpoint                 \t|  1.937e-06      \t|  1              \t|  1.937e-06      \t|  1.0508e-05     \t|\n",
      "|  [Callback]ModelSummary.on_configure_sharded_model                                                                                                                                                         \t|  1.921e-06      \t|  1              \t|  1.921e-06      \t|  1.0422e-05     \t|\n",
      "|  [Callback]GradientAccumulationScheduler.teardown                                                                                                                                                          \t|  1.878e-06      \t|  1              \t|  1.878e-06      \t|  1.0188e-05     \t|\n",
      "|  [Callback]GradientAccumulationScheduler.on_fit_end                                                                                                                                                        \t|  1.868e-06      \t|  1              \t|  1.868e-06      \t|  1.0134e-05     \t|\n",
      "|  [Callback]ModelSummary.teardown                                                                                                                                                                           \t|  1.846e-06      \t|  1              \t|  1.846e-06      \t|  1.0015e-05     \t|\n",
      "|  [Callback]ModelCheckpoint{'monitor': None, 'mode': 'min', 'every_n_train_steps': 0, 'every_n_epochs': 1, 'train_time_interval': None, 'save_on_train_epoch_end': True}.teardown                           \t|  1.836e-06      \t|  1              \t|  1.836e-06      \t|  9.9605e-06     \t|\n",
      "|  [Callback]GradientAccumulationScheduler.setup                                                                                                                                                             \t|  1.79e-06       \t|  1              \t|  1.79e-06       \t|  9.7109e-06     \t|\n",
      "|  [Callback]GradientAccumulationScheduler.on_configure_sharded_model                                                                                                                                        \t|  1.767e-06      \t|  1              \t|  1.767e-06      \t|  9.5861e-06     \t|\n",
      "|  [Callback]ModelCheckpoint{'monitor': None, 'mode': 'min', 'every_n_train_steps': 0, 'every_n_epochs': 1, 'train_time_interval': None, 'save_on_train_epoch_end': True}.on_pretrain_routine_end            \t|  1.766e-06      \t|  1              \t|  1.766e-06      \t|  9.5807e-06     \t|\n",
      "|  [Callback]GradientAccumulationScheduler.on_before_accelerator_backend_setup                                                                                                                               \t|  1.748e-06      \t|  1              \t|  1.748e-06      \t|  9.483e-06      \t|\n",
      "|  [Callback]GradientAccumulationScheduler.on_pretrain_routine_start                                                                                                                                         \t|  1.73e-06       \t|  1              \t|  1.73e-06       \t|  9.3854e-06     \t|\n",
      "|  [Callback]ModelSummary.on_pretrain_routine_end                                                                                                                                                            \t|  1.649e-06      \t|  1              \t|  1.649e-06      \t|  8.946e-06      \t|\n",
      "|  [Callback]GradientAccumulationScheduler.on_pretrain_routine_end                                                                                                                                           \t|  1.648e-06      \t|  1              \t|  1.648e-06      \t|  8.9405e-06     \t|\n",
      "|  [LightningModule]TwoLayerNet.on_train_epoch_start                                                                                                                                                         \t|  1.408e-06      \t|  1              \t|  1.408e-06      \t|  7.6385e-06     \t|\n",
      "|  [LightningModule]TwoLayerNet.setup                                                                                                                                                                        \t|  1.328e-06      \t|  1              \t|  1.328e-06      \t|  7.2045e-06     \t|\n",
      "|  [LightningModule]TwoLayerNet.configure_sharded_model                                                                                                                                                      \t|  1.231e-06      \t|  1              \t|  1.231e-06      \t|  6.6783e-06     \t|\n",
      "|  [LightningModule]TwoLayerNet.on_train_start                                                                                                                                                               \t|  1.206e-06      \t|  1              \t|  1.206e-06      \t|  6.5427e-06     \t|\n",
      "|  [LightningModule]TwoLayerNet.on_val_dataloader                                                                                                                                                            \t|  1.131e-06      \t|  1              \t|  1.131e-06      \t|  6.1358e-06     \t|\n",
      "|  [Strategy]SingleDeviceStrategy.on_train_start                                                                                                                                                             \t|  1.07e-06       \t|  1              \t|  1.07e-06       \t|  5.8048e-06     \t|\n",
      "|  [LightningModule]TwoLayerNet.on_fit_start                                                                                                                                                                 \t|  1.066e-06      \t|  1              \t|  1.066e-06      \t|  5.7831e-06     \t|\n",
      "|  [LightningModule]TwoLayerNet.on_train_end                                                                                                                                                                 \t|  1.065e-06      \t|  1              \t|  1.065e-06      \t|  5.7777e-06     \t|\n",
      "|  [Strategy]SingleDeviceStrategy.on_train_end                                                                                                                                                               \t|  9.56e-07       \t|  1              \t|  9.56e-07       \t|  5.1864e-06     \t|\n",
      "|  [LightningModule]TwoLayerNet.on_save_checkpoint                                                                                                                                                           \t|  9.2e-07        \t|  1              \t|  9.2e-07        \t|  4.9911e-06     \t|\n",
      "|  [LightningModule]TwoLayerNet.teardown                                                                                                                                                                     \t|  8.82e-07       \t|  1              \t|  8.82e-07       \t|  4.7849e-06     \t|\n",
      "|  [LightningModule]TwoLayerNet.on_pretrain_routine_start                                                                                                                                                    \t|  8.8e-07        \t|  1              \t|  8.8e-07        \t|  4.7741e-06     \t|\n",
      "|  [LightningModule]TwoLayerNet.on_pretrain_routine_end                                                                                                                                                      \t|  5.34e-07       \t|  1              \t|  5.34e-07       \t|  2.897e-06      \t|\n",
      "------------------------------------------------------------------------------------------------------------------------------------------------------------------------------------------------------------------------------------------------------------------------------------------------------------------\n",
      "\n"
     ]
    }
   ],
   "source": [
    "trainer = pl.Trainer(\n",
    "    profiler='simple',\n",
    "    max_epochs=1,\n",
    "    gpus=1 # Use GPU if available\n",
    "   \n",
    ")\n",
    "\n",
    "trainer.fit(model, data)"
   ]
  },
  {
   "cell_type": "markdown",
   "metadata": {},
   "source": [
    "We can see an overview of the time taken for different steps.\n",
    "This  enables us to detect bottlenecks in the model more easily. A bottleneck can be, for example, long times in dataloading. It becomes very important later, especially, when you start to implement custom layers or loss functions."
   ]
  },
  {
   "cell_type": "markdown",
   "metadata": {},
   "source": [
    "### Some more debugging Options\n",
    "\n",
    "* [`fast_dev_run`](https://pytorch-lightning.readthedocs.io/en/latest/trainer.html#fast-dev-run): Runs of batch of each train, validation and test pass (if validation and test datalaoders are passed as arguments).This is a fast way to check if everything works (dataloading, validation metric, model saving/ loading) without having to wait for a full epoch.\n",
    "\n",
    "* [`track_grad_norm`](https://pytorch-lightning.readthedocs.io/en/latest/trainer.html#track-grad-norm): Logs the  norm of the gradients (set to `1` for the $L1$ norm or `2` for the $L2$ norm) for each layer. You can check whether the network is actually doing something. If the gradients are too small or too high, you won't have a good training (due to vanishing/ exploding gradients).\n",
    "\n",
    "\n",
    "### Other Features\n",
    "\n",
    "Finally, we want to mention some other useful options in the Trainer class:\n",
    "\n",
    "* [`resume_from_checkpoint`](https://pytorch-lightning.readthedocs.io/en/latest/trainer.html#resume-from-checkpoint): Start the training from a checkpoint saved earlier. Argument is the path to the saved model file.\n",
    "* [`Callbacks`](https://pytorch-lightning.readthedocs.io/en/latest/callbacks.html#callback): Callbacks are extremely useful system during training that automate non essential code such as  storing model checkpoints , saving weights values among others.\n",
    "\n",
    "Let's have the look at the [`EarlyStopping`](https://pytorch-lightning.readthedocs.io/en/latest/early_stopping.html#early-stopping-based-on-metric-using-the-earlystopping-callback)  callback.\n",
    "\n",
    "It interrupts the training if the `monitor` metric variable does not  improve for `patience` number of epochs.\n",
    "\n",
    "Below is a code example on how to apply it!\n",
    "\n",
    "```python\n",
    "from pytorch_lightning.callbacks.early_stopping import EarlyStopping\n",
    "\n",
    "early_stop_callback = EarlyStopping(\n",
    "   monitor='val_accuracy',\n",
    "   patience=3,\n",
    "   verbose=False,\n",
    "   mode='max'\n",
    ")\n",
    "\n",
    "trainer = Trainer(max_epochs=10,callbacks=[early_stop_callback])\n",
    "```\n",
    "\n",
    "Your journey with pytorch lightning will force you to check out a bunch of callbacks to return the desired functions without having to write the respective code yourself. Or you hack it in, do as you wish :)."
   ]
  },
  {
   "cell_type": "markdown",
   "metadata": {},
   "source": [
    "## References\n",
    "\n",
    "1. PyTorch Lightining [`Source Code`](https://github.com/PyTorchLightning/pytorch-lightning) with a nice introduction \n",
    "2. PyTorch Lightining [`Documentation`](https://pytorch-lightning.readthedocs.io/en/latest/#)  Explore it! The features are very well explained. "
   ]
  }
 ],
 "metadata": {
  "interpreter": {
   "hash": "bbf148f741bdcfda68412a690aa89cb477d7b565ce205d715d0eac6f68c7216c"
  },
  "kernelspec": {
   "display_name": "Python 3 (ipykernel)",
   "language": "python",
   "name": "python3"
  },
  "language_info": {
   "codemirror_mode": {
    "name": "ipython",
    "version": 3
   },
   "file_extension": ".py",
   "mimetype": "text/x-python",
   "name": "python",
   "nbconvert_exporter": "python",
   "pygments_lexer": "ipython3",
   "version": "3.10.4"
  }
 },
 "nbformat": 4,
 "nbformat_minor": 2
}
